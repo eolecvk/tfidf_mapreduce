{
 "cells": [
  {
   "cell_type": "markdown",
   "metadata": {},
   "source": [
    "# Introduction du sujet: TF-IDF"
   ]
  },
  {
   "cell_type": "raw",
   "metadata": {},
   "source": [
    "Tf (Term Frequency in one documents)\n",
    "    'Cat' appears 3 times in 100 words = (3/100) = 0.03\n",
    "IDF ( Term Frequency in all documents\n",
    "    'Cat' appears 1000 among 1 millions documents =log((1,000,000+1))/(1,000+1)))log((Nombre de doc +1)/(nombre de doc où il apparait +1))\n",
    "TF-IDF (product of these quantities) = TF * IDF"
   ]
  },
  {
   "cell_type": "markdown",
   "metadata": {},
   "source": [
    "# How we do TF-IDF in Spark"
   ]
  },
  {
   "cell_type": "raw",
   "metadata": {},
   "source": [
    "Term Frequency vectors could be generated using HashingTf or CountVectorizer\n",
    "\n",
    "IDF is an Estimator which is fit on a dataset and produces an IDFModel. The IDFModel takes features vectors and scales each column."
   ]
  },
  {
   "cell_type": "markdown",
   "metadata": {},
   "source": [
    "# Exemple"
   ]
  },
  {
   "cell_type": "code",
   "execution_count": 151,
   "metadata": {
    "collapsed": true
   },
   "outputs": [],
   "source": [
    "document1 =  \"Welcome to TutorialKart. There are many tutorials covering various fields of technology.\"\n",
    " \n",
    "document2 = \"Technology has advanced a lot with the invention of semi-conductor transistor. Technology is affecting our dailylife a lot.\"\n",
    " \n",
    "document3 = \"You may find this tutorial on transistor technology interesting.\""
   ]
  },
  {
   "cell_type": "markdown",
   "metadata": {},
   "source": [
    "# Création de la session"
   ]
  },
  {
   "cell_type": "code",
   "execution_count": 152,
   "metadata": {
    "collapsed": true
   },
   "outputs": [],
   "source": [
    "import os\n",
    "import pyspark\n",
    "from pyspark.ml.feature import HashingTF, IDF, Tokenizer\n",
    "from pyspark.sql import SparkSession\n",
    "import pandas as pd\n",
    "pd.set_option('display.max_colwidth', 150)"
   ]
  },
  {
   "cell_type": "code",
   "execution_count": 153,
   "metadata": {
    "collapsed": true
   },
   "outputs": [],
   "source": [
    "sc = SparkSession\\\n",
    "        .builder\\\n",
    "        .appName(\"TfIdf Example\")\\\n",
    "        .getOrCreate()"
   ]
  },
  {
   "cell_type": "code",
   "execution_count": 154,
   "metadata": {
    "collapsed": true
   },
   "outputs": [],
   "source": [
    "documents = sc.createDataFrame([\n",
    "        (1, document1),\n",
    "        (2, document2),\n",
    "        (3, document3)\n",
    "    ], [\"doc_id\", \"doc_text\"])"
   ]
  },
  {
   "cell_type": "code",
   "execution_count": 155,
   "metadata": {
    "collapsed": false
   },
   "outputs": [
    {
     "data": {
      "text/html": [
       "<div>\n",
       "<style scoped>\n",
       "    .dataframe tbody tr th:only-of-type {\n",
       "        vertical-align: middle;\n",
       "    }\n",
       "\n",
       "    .dataframe tbody tr th {\n",
       "        vertical-align: top;\n",
       "    }\n",
       "\n",
       "    .dataframe thead th {\n",
       "        text-align: right;\n",
       "    }\n",
       "</style>\n",
       "<table border=\"1\" class=\"dataframe\">\n",
       "  <thead>\n",
       "    <tr style=\"text-align: right;\">\n",
       "      <th></th>\n",
       "      <th>doc_id</th>\n",
       "      <th>doc_text</th>\n",
       "    </tr>\n",
       "  </thead>\n",
       "  <tbody>\n",
       "    <tr>\n",
       "      <th>0</th>\n",
       "      <td>1</td>\n",
       "      <td>Welcome to TutorialKart. There are many tutorials covering various fields of technology.</td>\n",
       "    </tr>\n",
       "    <tr>\n",
       "      <th>1</th>\n",
       "      <td>2</td>\n",
       "      <td>Technology has advanced a lot with the invention of semi-conductor transistor. Technology is affecting our dailylife a lot.</td>\n",
       "    </tr>\n",
       "    <tr>\n",
       "      <th>2</th>\n",
       "      <td>3</td>\n",
       "      <td>You may find this tutorial on transistor technology interesting.</td>\n",
       "    </tr>\n",
       "  </tbody>\n",
       "</table>\n",
       "</div>"
      ],
      "text/plain": [
       "   doc_id  \\\n",
       "0       1   \n",
       "1       2   \n",
       "2       3   \n",
       "\n",
       "                                                                                                                      doc_text  \n",
       "0                                     Welcome to TutorialKart. There are many tutorials covering various fields of technology.  \n",
       "1  Technology has advanced a lot with the invention of semi-conductor transistor. Technology is affecting our dailylife a lot.  \n",
       "2                                                             You may find this tutorial on transistor technology interesting.  "
      ]
     },
     "execution_count": 155,
     "metadata": {},
     "output_type": "execute_result"
    }
   ],
   "source": [
    "documents.toPandas()"
   ]
  },
  {
   "cell_type": "code",
   "execution_count": 156,
   "metadata": {
    "collapsed": true
   },
   "outputs": [],
   "source": [
    "data = (documents.rdd\n",
    "       .map(lambda x: (x.doc_id,x.doc_text.lower().replace('.','')\n",
    "                       .replace(',','').replace(';','').\n",
    "                       replace('?','').replace('!','').\n",
    "                       replace(':','').split(\" \")))\n",
    "       .toDF()\n",
    "       .withColumnRenamed(\"_1\",\"doc_id\")\n",
    "       .withColumnRenamed(\"_2\",\"features\"))"
   ]
  },
  {
   "cell_type": "code",
   "execution_count": 157,
   "metadata": {
    "collapsed": false
   },
   "outputs": [
    {
     "data": {
      "text/html": [
       "<div>\n",
       "<style scoped>\n",
       "    .dataframe tbody tr th:only-of-type {\n",
       "        vertical-align: middle;\n",
       "    }\n",
       "\n",
       "    .dataframe tbody tr th {\n",
       "        vertical-align: top;\n",
       "    }\n",
       "\n",
       "    .dataframe thead th {\n",
       "        text-align: right;\n",
       "    }\n",
       "</style>\n",
       "<table border=\"1\" class=\"dataframe\">\n",
       "  <thead>\n",
       "    <tr style=\"text-align: right;\">\n",
       "      <th></th>\n",
       "      <th>doc_id</th>\n",
       "      <th>features</th>\n",
       "    </tr>\n",
       "  </thead>\n",
       "  <tbody>\n",
       "    <tr>\n",
       "      <th>0</th>\n",
       "      <td>1</td>\n",
       "      <td>[welcome, to, tutorialkart, there, are, many, tutorials, covering, various, fields, of, technology]</td>\n",
       "    </tr>\n",
       "    <tr>\n",
       "      <th>1</th>\n",
       "      <td>2</td>\n",
       "      <td>[technology, has, advanced, a, lot, with, the, invention, of, semi-conductor, transistor, technology, is, affecting, our, dailylife, a, lot]</td>\n",
       "    </tr>\n",
       "    <tr>\n",
       "      <th>2</th>\n",
       "      <td>3</td>\n",
       "      <td>[you, may, find, this, tutorial, on, transistor, technology, interesting]</td>\n",
       "    </tr>\n",
       "  </tbody>\n",
       "</table>\n",
       "</div>"
      ],
      "text/plain": [
       "   doc_id  \\\n",
       "0       1   \n",
       "1       2   \n",
       "2       3   \n",
       "\n",
       "                                                                                                                                       features  \n",
       "0                                           [welcome, to, tutorialkart, there, are, many, tutorials, covering, various, fields, of, technology]  \n",
       "1  [technology, has, advanced, a, lot, with, the, invention, of, semi-conductor, transistor, technology, is, affecting, our, dailylife, a, lot]  \n",
       "2                                                                     [you, may, find, this, tutorial, on, transistor, technology, interesting]  "
      ]
     },
     "execution_count": 157,
     "metadata": {},
     "output_type": "execute_result"
    }
   ],
   "source": [
    "data.toPandas()"
   ]
  },
  {
   "cell_type": "markdown",
   "metadata": {},
   "source": [
    "# Vectorize - TF"
   ]
  },
  {
   "cell_type": "code",
   "execution_count": 163,
   "metadata": {
    "collapsed": false
   },
   "outputs": [
    {
     "data": {
      "text/plain": [
       "[Row(doc_id=1, features=['welcome', 'to', 'tutorialkart', 'there', 'are', 'many', 'tutorials', 'covering', 'various', 'fields', 'of', 'technology'], tf=SparseVector(262144, {9639: 1.0, 38068: 1.0, 48935: 1.0, 81213: 1.0, 95306: 1.0, 133828: 1.0, 164221: 1.0, 167122: 1.0, 180535: 1.0, 205044: 1.0, 235787: 1.0, 245044: 1.0})),\n",
       " Row(doc_id=2, features=['technology', 'has', 'advanced', 'a', 'lot', 'with', 'the', 'invention', 'of', 'semi-conductor', 'transistor', 'technology', 'is', 'affecting', 'our', 'dailylife', 'a', 'lot'], tf=SparseVector(262144, {9616: 1.0, 9639: 1.0, 15889: 1.0, 38068: 2.0, 85287: 1.0, 96016: 1.0, 103838: 1.0, 113764: 1.0, 126466: 1.0, 128231: 2.0, 153454: 1.0, 171778: 1.0, 205843: 1.0, 227410: 2.0, 234391: 1.0}))]"
      ]
     },
     "execution_count": 163,
     "metadata": {},
     "output_type": "execute_result"
    }
   ],
   "source": [
    "htf= HashingTF(inputCol=\"features\", outputCol=\"tf\")#numFeatures=20)\n",
    "tf = htf.transform(data)\n",
    "#tf.show(truncate=False)\n",
    "tf.head(2)"
   ]
  },
  {
   "cell_type": "code",
   "execution_count": 159,
   "metadata": {
    "collapsed": false
   },
   "outputs": [
    {
     "data": {
      "text/html": [
       "<div>\n",
       "<style scoped>\n",
       "    .dataframe tbody tr th:only-of-type {\n",
       "        vertical-align: middle;\n",
       "    }\n",
       "\n",
       "    .dataframe tbody tr th {\n",
       "        vertical-align: top;\n",
       "    }\n",
       "\n",
       "    .dataframe thead th {\n",
       "        text-align: right;\n",
       "    }\n",
       "</style>\n",
       "<table border=\"1\" class=\"dataframe\">\n",
       "  <thead>\n",
       "    <tr style=\"text-align: right;\">\n",
       "      <th></th>\n",
       "      <th>doc_id</th>\n",
       "      <th>features</th>\n",
       "      <th>tf</th>\n",
       "    </tr>\n",
       "  </thead>\n",
       "  <tbody>\n",
       "    <tr>\n",
       "      <th>0</th>\n",
       "      <td>1</td>\n",
       "      <td>[welcome, to, tutorialkart, there, are, many, tutorials, covering, various, fields, of, technology]</td>\n",
       "      <td>(0.0, 0.0, 0.0, 0.0, 0.0, 0.0, 0.0, 0.0, 0.0, 0.0, 0.0, 0.0, 0.0, 0.0, 0.0, 0.0, 0.0, 0.0, 0.0, 0.0, 0.0, 0.0, 0.0, 0.0, 0.0, 0.0, 0.0, 0.0, 0.0, ...</td>\n",
       "    </tr>\n",
       "    <tr>\n",
       "      <th>1</th>\n",
       "      <td>2</td>\n",
       "      <td>[technology, has, advanced, a, lot, with, the, invention, of, semi-conductor, transistor, technology, is, affecting, our, dailylife, a, lot]</td>\n",
       "      <td>(0.0, 0.0, 0.0, 0.0, 0.0, 0.0, 0.0, 0.0, 0.0, 0.0, 0.0, 0.0, 0.0, 0.0, 0.0, 0.0, 0.0, 0.0, 0.0, 0.0, 0.0, 0.0, 0.0, 0.0, 0.0, 0.0, 0.0, 0.0, 0.0, ...</td>\n",
       "    </tr>\n",
       "    <tr>\n",
       "      <th>2</th>\n",
       "      <td>3</td>\n",
       "      <td>[you, may, find, this, tutorial, on, transistor, technology, interesting]</td>\n",
       "      <td>(0.0, 0.0, 0.0, 0.0, 0.0, 0.0, 0.0, 0.0, 0.0, 0.0, 0.0, 0.0, 0.0, 0.0, 0.0, 0.0, 0.0, 0.0, 0.0, 0.0, 0.0, 0.0, 0.0, 0.0, 0.0, 0.0, 0.0, 0.0, 0.0, ...</td>\n",
       "    </tr>\n",
       "  </tbody>\n",
       "</table>\n",
       "</div>"
      ],
      "text/plain": [
       "   doc_id  \\\n",
       "0       1   \n",
       "1       2   \n",
       "2       3   \n",
       "\n",
       "                                                                                                                                       features  \\\n",
       "0                                           [welcome, to, tutorialkart, there, are, many, tutorials, covering, various, fields, of, technology]   \n",
       "1  [technology, has, advanced, a, lot, with, the, invention, of, semi-conductor, transistor, technology, is, affecting, our, dailylife, a, lot]   \n",
       "2                                                                     [you, may, find, this, tutorial, on, transistor, technology, interesting]   \n",
       "\n",
       "                                                                                                                                                      tf  \n",
       "0  (0.0, 0.0, 0.0, 0.0, 0.0, 0.0, 0.0, 0.0, 0.0, 0.0, 0.0, 0.0, 0.0, 0.0, 0.0, 0.0, 0.0, 0.0, 0.0, 0.0, 0.0, 0.0, 0.0, 0.0, 0.0, 0.0, 0.0, 0.0, 0.0, ...  \n",
       "1  (0.0, 0.0, 0.0, 0.0, 0.0, 0.0, 0.0, 0.0, 0.0, 0.0, 0.0, 0.0, 0.0, 0.0, 0.0, 0.0, 0.0, 0.0, 0.0, 0.0, 0.0, 0.0, 0.0, 0.0, 0.0, 0.0, 0.0, 0.0, 0.0, ...  \n",
       "2  (0.0, 0.0, 0.0, 0.0, 0.0, 0.0, 0.0, 0.0, 0.0, 0.0, 0.0, 0.0, 0.0, 0.0, 0.0, 0.0, 0.0, 0.0, 0.0, 0.0, 0.0, 0.0, 0.0, 0.0, 0.0, 0.0, 0.0, 0.0, 0.0, ...  "
      ]
     },
     "execution_count": 159,
     "metadata": {},
     "output_type": "execute_result"
    }
   ],
   "source": [
    "tf.toPandas()"
   ]
  },
  {
   "cell_type": "markdown",
   "metadata": {},
   "source": [
    "# IDF"
   ]
  },
  {
   "cell_type": "code",
   "execution_count": 177,
   "metadata": {
    "collapsed": false
   },
   "outputs": [
    {
     "data": {
      "text/plain": [
       "[Row(doc_id=1, features=['welcome', 'to', 'tutorialkart', 'there', 'are', 'many', 'tutorials', 'covering', 'various', 'fields', 'of', 'technology'], tf=SparseVector(262144, {9639: 1.0, 38068: 1.0, 48935: 1.0, 81213: 1.0, 95306: 1.0, 133828: 1.0, 164221: 1.0, 167122: 1.0, 180535: 1.0, 205044: 1.0, 235787: 1.0, 245044: 1.0}), idf=SparseVector(262144, {9639: 0.2877, 38068: 0.0, 48935: 0.6931, 81213: 0.6931, 95306: 0.6931, 133828: 0.6931, 164221: 0.6931, 167122: 0.6931, 180535: 0.6931, 205044: 0.6931, 235787: 0.6931, 245044: 0.6931})),\n",
       " Row(doc_id=2, features=['technology', 'has', 'advanced', 'a', 'lot', 'with', 'the', 'invention', 'of', 'semi-conductor', 'transistor', 'technology', 'is', 'affecting', 'our', 'dailylife', 'a', 'lot'], tf=SparseVector(262144, {9616: 1.0, 9639: 1.0, 15889: 1.0, 38068: 2.0, 85287: 1.0, 96016: 1.0, 103838: 1.0, 113764: 1.0, 126466: 1.0, 128231: 2.0, 153454: 1.0, 171778: 1.0, 205843: 1.0, 227410: 2.0, 234391: 1.0}), idf=SparseVector(262144, {9616: 0.6931, 9639: 0.2877, 15889: 0.6931, 38068: 0.0, 85287: 0.6931, 96016: 0.6931, 103838: 0.6931, 113764: 0.6931, 126466: 0.6931, 128231: 1.3863, 153454: 0.6931, 171778: 0.6931, 205843: 0.6931, 227410: 1.3863, 234391: 0.2877}))]"
      ]
     },
     "execution_count": 177,
     "metadata": {},
     "output_type": "execute_result"
    }
   ],
   "source": [
    "idf = IDF(inputCol=\"tf\",outputCol=\"idf\")\n",
    "tfidf = idf.fit(tf).transform(tf)\n",
    "tfidf.head(2)"
   ]
  },
  {
   "cell_type": "code",
   "execution_count": 211,
   "metadata": {
    "collapsed": false
   },
   "outputs": [
    {
     "name": "stdout",
     "output_type": "stream",
     "text": [
      "+--------------------+\n",
      "|                  tf|\n",
      "+--------------------+\n",
      "|(262144,[9639,380...|\n",
      "|(262144,[9616,963...|\n",
      "|(262144,[38068,50...|\n",
      "+--------------------+\n",
      "\n"
     ]
    }
   ],
   "source": [
    "test=tfidf.select('tf').show()\n",
    "test"
   ]
  },
  {
   "cell_type": "code",
   "execution_count": 204,
   "metadata": {
    "collapsed": false
   },
   "outputs": [
    {
     "data": {
      "text/html": [
       "<div>\n",
       "<style scoped>\n",
       "    .dataframe tbody tr th:only-of-type {\n",
       "        vertical-align: middle;\n",
       "    }\n",
       "\n",
       "    .dataframe tbody tr th {\n",
       "        vertical-align: top;\n",
       "    }\n",
       "\n",
       "    .dataframe thead th {\n",
       "        text-align: right;\n",
       "    }\n",
       "</style>\n",
       "<table border=\"1\" class=\"dataframe\">\n",
       "  <thead>\n",
       "    <tr style=\"text-align: right;\">\n",
       "      <th></th>\n",
       "      <th>doc_id</th>\n",
       "      <th>features</th>\n",
       "      <th>tf</th>\n",
       "      <th>idf</th>\n",
       "    </tr>\n",
       "  </thead>\n",
       "  <tbody>\n",
       "    <tr>\n",
       "      <th>0</th>\n",
       "      <td>1</td>\n",
       "      <td>[welcome, to, tutorialkart, there, are, many, tutorials, covering, various, fields, of, technology]</td>\n",
       "      <td>(0.0, 0.0, 0.0, 0.0, 0.0, 0.0, 0.0, 0.0, 0.0, 0.0, 0.0, 0.0, 0.0, 0.0, 0.0, 0.0, 0.0, 0.0, 0.0, 0.0, 0.0, 0.0, 0.0, 0.0, 0.0, 0.0, 0.0, 0.0, 0.0, ...</td>\n",
       "      <td>(0.0, 0.0, 0.0, 0.0, 0.0, 0.0, 0.0, 0.0, 0.0, 0.0, 0.0, 0.0, 0.0, 0.0, 0.0, 0.0, 0.0, 0.0, 0.0, 0.0, 0.0, 0.0, 0.0, 0.0, 0.0, 0.0, 0.0, 0.0, 0.0, ...</td>\n",
       "    </tr>\n",
       "    <tr>\n",
       "      <th>1</th>\n",
       "      <td>2</td>\n",
       "      <td>[technology, has, advanced, a, lot, with, the, invention, of, semi-conductor, transistor, technology, is, affecting, our, dailylife, a, lot]</td>\n",
       "      <td>(0.0, 0.0, 0.0, 0.0, 0.0, 0.0, 0.0, 0.0, 0.0, 0.0, 0.0, 0.0, 0.0, 0.0, 0.0, 0.0, 0.0, 0.0, 0.0, 0.0, 0.0, 0.0, 0.0, 0.0, 0.0, 0.0, 0.0, 0.0, 0.0, ...</td>\n",
       "      <td>(0.0, 0.0, 0.0, 0.0, 0.0, 0.0, 0.0, 0.0, 0.0, 0.0, 0.0, 0.0, 0.0, 0.0, 0.0, 0.0, 0.0, 0.0, 0.0, 0.0, 0.0, 0.0, 0.0, 0.0, 0.0, 0.0, 0.0, 0.0, 0.0, ...</td>\n",
       "    </tr>\n",
       "    <tr>\n",
       "      <th>2</th>\n",
       "      <td>3</td>\n",
       "      <td>[you, may, find, this, tutorial, on, transistor, technology, interesting]</td>\n",
       "      <td>(0.0, 0.0, 0.0, 0.0, 0.0, 0.0, 0.0, 0.0, 0.0, 0.0, 0.0, 0.0, 0.0, 0.0, 0.0, 0.0, 0.0, 0.0, 0.0, 0.0, 0.0, 0.0, 0.0, 0.0, 0.0, 0.0, 0.0, 0.0, 0.0, ...</td>\n",
       "      <td>(0.0, 0.0, 0.0, 0.0, 0.0, 0.0, 0.0, 0.0, 0.0, 0.0, 0.0, 0.0, 0.0, 0.0, 0.0, 0.0, 0.0, 0.0, 0.0, 0.0, 0.0, 0.0, 0.0, 0.0, 0.0, 0.0, 0.0, 0.0, 0.0, ...</td>\n",
       "    </tr>\n",
       "  </tbody>\n",
       "</table>\n",
       "</div>"
      ],
      "text/plain": [
       "   doc_id  \\\n",
       "0       1   \n",
       "1       2   \n",
       "2       3   \n",
       "\n",
       "                                                                                                                                       features  \\\n",
       "0                                           [welcome, to, tutorialkart, there, are, many, tutorials, covering, various, fields, of, technology]   \n",
       "1  [technology, has, advanced, a, lot, with, the, invention, of, semi-conductor, transistor, technology, is, affecting, our, dailylife, a, lot]   \n",
       "2                                                                     [you, may, find, this, tutorial, on, transistor, technology, interesting]   \n",
       "\n",
       "                                                                                                                                                      tf  \\\n",
       "0  (0.0, 0.0, 0.0, 0.0, 0.0, 0.0, 0.0, 0.0, 0.0, 0.0, 0.0, 0.0, 0.0, 0.0, 0.0, 0.0, 0.0, 0.0, 0.0, 0.0, 0.0, 0.0, 0.0, 0.0, 0.0, 0.0, 0.0, 0.0, 0.0, ...   \n",
       "1  (0.0, 0.0, 0.0, 0.0, 0.0, 0.0, 0.0, 0.0, 0.0, 0.0, 0.0, 0.0, 0.0, 0.0, 0.0, 0.0, 0.0, 0.0, 0.0, 0.0, 0.0, 0.0, 0.0, 0.0, 0.0, 0.0, 0.0, 0.0, 0.0, ...   \n",
       "2  (0.0, 0.0, 0.0, 0.0, 0.0, 0.0, 0.0, 0.0, 0.0, 0.0, 0.0, 0.0, 0.0, 0.0, 0.0, 0.0, 0.0, 0.0, 0.0, 0.0, 0.0, 0.0, 0.0, 0.0, 0.0, 0.0, 0.0, 0.0, 0.0, ...   \n",
       "\n",
       "                                                                                                                                                     idf  \n",
       "0  (0.0, 0.0, 0.0, 0.0, 0.0, 0.0, 0.0, 0.0, 0.0, 0.0, 0.0, 0.0, 0.0, 0.0, 0.0, 0.0, 0.0, 0.0, 0.0, 0.0, 0.0, 0.0, 0.0, 0.0, 0.0, 0.0, 0.0, 0.0, 0.0, ...  \n",
       "1  (0.0, 0.0, 0.0, 0.0, 0.0, 0.0, 0.0, 0.0, 0.0, 0.0, 0.0, 0.0, 0.0, 0.0, 0.0, 0.0, 0.0, 0.0, 0.0, 0.0, 0.0, 0.0, 0.0, 0.0, 0.0, 0.0, 0.0, 0.0, 0.0, ...  \n",
       "2  (0.0, 0.0, 0.0, 0.0, 0.0, 0.0, 0.0, 0.0, 0.0, 0.0, 0.0, 0.0, 0.0, 0.0, 0.0, 0.0, 0.0, 0.0, 0.0, 0.0, 0.0, 0.0, 0.0, 0.0, 0.0, 0.0, 0.0, 0.0, 0.0, ...  "
      ]
     },
     "execution_count": 204,
     "metadata": {},
     "output_type": "execute_result"
    }
   ],
   "source": [
    "df=tfidf.toPandas()\n",
    "df\n"
   ]
  },
  {
   "cell_type": "code",
   "execution_count": 162,
   "metadata": {
    "collapsed": false
   },
   "outputs": [
    {
     "name": "stdout",
     "output_type": "stream",
     "text": [
      "(1, ['welcome', 'to', 'tutorialkart', 'there', 'are', 'many', 'tutorials', 'covering', 'various', 'fields', 'of', 'technology'], SparseVector(262144, {9639: 1.0, 38068: 1.0, 48935: 1.0, 81213: 1.0, 95306: 1.0, 133828: 1.0, 164221: 1.0, 167122: 1.0, 180535: 1.0, 205044: 1.0, 235787: 1.0, 245044: 1.0}), SparseVector(262144, {9639: 0.2877, 38068: 0.0, 48935: 0.6931, 81213: 0.6931, 95306: 0.6931, 133828: 0.6931, 164221: 0.6931, 167122: 0.6931, 180535: 0.6931, 205044: 0.6931, 235787: 0.6931, 245044: 0.6931}), 7.219153878051234)\n",
      "(2, ['technology', 'has', 'advanced', 'a', 'lot', 'with', 'the', 'invention', 'of', 'semi-conductor', 'transistor', 'technology', 'is', 'affecting', 'our', 'dailylife', 'a', 'lot'], SparseVector(262144, {9616: 1.0, 9639: 1.0, 15889: 1.0, 38068: 2.0, 85287: 1.0, 96016: 1.0, 103838: 1.0, 113764: 1.0, 126466: 1.0, 128231: 2.0, 153454: 1.0, 171778: 1.0, 205843: 1.0, 227410: 2.0, 234391: 1.0}), SparseVector(262144, {9616: 0.6931, 9639: 0.2877, 15889: 0.6931, 38068: 0.0, 85287: 0.6931, 96016: 0.6931, 103838: 0.6931, 113764: 0.6931, 126466: 0.6931, 128231: 1.3863, 153454: 0.6931, 171778: 0.6931, 205843: 0.6931, 227410: 1.3863, 234391: 0.2877}), 10.279424672742797)\n",
      "(3, ['you', 'may', 'find', 'this', 'tutorial', 'on', 'transistor', 'technology', 'interesting'], SparseVector(262144, {38068: 1.0, 50617: 1.0, 91878: 1.0, 100258: 1.0, 108541: 1.0, 140586: 1.0, 234391: 1.0, 252717: 1.0, 252801: 1.0}), SparseVector(262144, {38068: 0.0, 50617: 0.6931, 91878: 0.6931, 100258: 0.6931, 108541: 0.6931, 140586: 0.6931, 234391: 0.2877, 252717: 0.6931, 252801: 0.6931}), 5.139712336371398)\n"
     ]
    }
   ],
   "source": [
    "res = tfidf.rdd.map(lambda x:(x.doc_id,x.features,x.tf,x.idf,(None if x.idf is None else x.idf.values.sum())))\n",
    "for r in res.take(10):\n",
    "    print (r)"
   ]
  },
  {
   "cell_type": "code",
   "execution_count": 171,
   "metadata": {
    "collapsed": false
   },
   "outputs": [
    {
     "name": "stdout",
     "output_type": "stream",
     "text": [
      "+------+--------------------+--------------------+--------------------+------------------+\n",
      "|doc_id|            features|                  tf|                 idf|           idf_sum|\n",
      "+------+--------------------+--------------------+--------------------+------------------+\n",
      "|     1|[welcome, to, tut...|(262144,[9639,380...|(262144,[9639,380...| 7.219153878051234|\n",
      "|     2|[technology, has,...|(262144,[9616,963...|(262144,[9616,963...|10.279424672742797|\n",
      "|     3|[you, may, find, ...|(262144,[38068,50...|(262144,[38068,50...| 5.139712336371398|\n",
      "+------+--------------------+--------------------+--------------------+------------------+\n",
      "\n"
     ]
    }
   ],
   "source": [
    "from pyspark.sql.functions import udf\n",
    "from pyspark.sql.types import DoubleType\n",
    "\n",
    "\n",
    "sum_ = udf(lambda v: float(v.values.sum()), DoubleType())\n",
    "tfidf.withColumn(\"idf_sum\", sum_(\"idf\")).show()"
   ]
  },
  {
   "cell_type": "code",
   "execution_count": 26,
   "metadata": {
    "collapsed": true
   },
   "outputs": [],
   "source": [
    "sc.stop()"
   ]
  }
 ],
 "metadata": {
  "kernelspec": {
   "display_name": "Python 3",
   "language": "python",
   "name": "python3"
  },
  "language_info": {
   "codemirror_mode": {
    "name": "ipython",
    "version": 3
   },
   "file_extension": ".py",
   "mimetype": "text/x-python",
   "name": "python",
   "nbconvert_exporter": "python",
   "pygments_lexer": "ipython3",
   "version": "3.6.3"
  }
 },
 "nbformat": 4,
 "nbformat_minor": 2
}
