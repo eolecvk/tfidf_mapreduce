{
 "cells": [
  {
   "cell_type": "markdown",
   "metadata": {},
   "source": [
    "### Read input documents"
   ]
  },
  {
   "cell_type": "code",
   "execution_count": 2,
   "metadata": {
    "collapsed": false
   },
   "outputs": [],
   "source": [
    "docs = []\n",
    "\n",
    "import os\n",
    "dname = \"/home/eolus/Desktop/Dauphine/bigdata/tfidf/data\"\n",
    "for fname in os.listdir(dname):\n",
    "    fpath = \"{}/{}\".format(dname, fname)\n",
    "    try:\n",
    "        with open(fpath, 'r') as fp:\n",
    "            doc = fp.read()\n",
    "            doc_id = int(fname.replace(\".txt\", \"\"))\n",
    "            docs.append( (doc_id, doc) )\n",
    "    except Exception as e:\n",
    "        print(e)"
   ]
  },
  {
   "cell_type": "markdown",
   "metadata": {},
   "source": [
    "### Spark session"
   ]
  },
  {
   "cell_type": "code",
   "execution_count": 3,
   "metadata": {
    "collapsed": false
   },
   "outputs": [],
   "source": [
    "from pyspark.sql import SparkSession, SQLContext\n",
    "\n",
    "sc = SparkSession\\\n",
    "        .builder\\\n",
    "        .appName(\"TfIdf Example\")\\\n",
    "        .getOrCreate()\n",
    "        \n",
    "sql = SQLContext(sc)"
   ]
  },
  {
   "cell_type": "markdown",
   "metadata": {},
   "source": [
    "### Load input as spark df"
   ]
  },
  {
   "cell_type": "code",
   "execution_count": 4,
   "metadata": {
    "collapsed": false
   },
   "outputs": [
    {
     "data": {
      "text/html": [
       "<div>\n",
       "<style scoped>\n",
       "    .dataframe tbody tr th:only-of-type {\n",
       "        vertical-align: middle;\n",
       "    }\n",
       "\n",
       "    .dataframe tbody tr th {\n",
       "        vertical-align: top;\n",
       "    }\n",
       "\n",
       "    .dataframe thead th {\n",
       "        text-align: right;\n",
       "    }\n",
       "</style>\n",
       "<table border=\"1\" class=\"dataframe\">\n",
       "  <thead>\n",
       "    <tr style=\"text-align: right;\">\n",
       "      <th></th>\n",
       "      <th>doc_id</th>\n",
       "      <th>doc_text</th>\n",
       "    </tr>\n",
       "  </thead>\n",
       "  <tbody>\n",
       "    <tr>\n",
       "      <th>0</th>\n",
       "      <td>978796580789719042</td>\n",
       "      <td>RT @BarrettSallee: Hero https://t.co/4eyjbjtqKp</td>\n",
       "    </tr>\n",
       "    <tr>\n",
       "      <th>1</th>\n",
       "      <td>978796298328559616</td>\n",
       "      <td>Of the 6 new announced #Russianmissiles, actua...</td>\n",
       "    </tr>\n",
       "    <tr>\n",
       "      <th>2</th>\n",
       "      <td>978797301639475200</td>\n",
       "      <td>RT @Ohsehunbar: 2018 SEHUN’s bday support\\n[9t...</td>\n",
       "    </tr>\n",
       "    <tr>\n",
       "      <th>3</th>\n",
       "      <td>978796516310577153</td>\n",
       "      <td>Pekan Suci Paroki Banteng https://t.co/JbSatyISCW</td>\n",
       "    </tr>\n",
       "    <tr>\n",
       "      <th>4</th>\n",
       "      <td>978797071414145030</td>\n",
       "      <td>RT @igot_markedby7: [TRANS] #Jackson replied:\\...</td>\n",
       "    </tr>\n",
       "  </tbody>\n",
       "</table>\n",
       "</div>"
      ],
      "text/plain": [
       "               doc_id                                           doc_text\n",
       "0  978796580789719042    RT @BarrettSallee: Hero https://t.co/4eyjbjtqKp\n",
       "1  978796298328559616  Of the 6 new announced #Russianmissiles, actua...\n",
       "2  978797301639475200  RT @Ohsehunbar: 2018 SEHUN’s bday support\\n[9t...\n",
       "3  978796516310577153  Pekan Suci Paroki Banteng https://t.co/JbSatyISCW\n",
       "4  978797071414145030  RT @igot_markedby7: [TRANS] #Jackson replied:\\..."
      ]
     },
     "execution_count": 4,
     "metadata": {},
     "output_type": "execute_result"
    }
   ],
   "source": [
    "documents = sql.createDataFrame(docs, [ \"doc_id\", \"doc_text\" ])"
   ]
  },
  {
   "cell_type": "markdown",
   "metadata": {},
   "source": [
    "### Tokenize"
   ]
  },
  {
   "cell_type": "code",
   "execution_count": 10,
   "metadata": {
    "collapsed": false
   },
   "outputs": [
    {
     "data": {
      "text/html": [
       "<div>\n",
       "<style scoped>\n",
       "    .dataframe tbody tr th:only-of-type {\n",
       "        vertical-align: middle;\n",
       "    }\n",
       "\n",
       "    .dataframe tbody tr th {\n",
       "        vertical-align: top;\n",
       "    }\n",
       "\n",
       "    .dataframe thead th {\n",
       "        text-align: right;\n",
       "    }\n",
       "</style>\n",
       "<table border=\"1\" class=\"dataframe\">\n",
       "  <thead>\n",
       "    <tr style=\"text-align: right;\">\n",
       "      <th></th>\n",
       "      <th>doc_text</th>\n",
       "      <th>words</th>\n",
       "    </tr>\n",
       "  </thead>\n",
       "  <tbody>\n",
       "    <tr>\n",
       "      <th>0</th>\n",
       "      <td>RT @BarrettSallee: Hero https://t.co/4eyjbjtqKp</td>\n",
       "      <td>[rt, barrettsallee, hero, https, t, co, 4eyjbj...</td>\n",
       "    </tr>\n",
       "    <tr>\n",
       "      <th>1</th>\n",
       "      <td>Of the 6 new announced #Russianmissiles, actua...</td>\n",
       "      <td>[of, the, 6, new, announced, russianmissiles, ...</td>\n",
       "    </tr>\n",
       "    <tr>\n",
       "      <th>2</th>\n",
       "      <td>RT @Ohsehunbar: 2018 SEHUN’s bday support\\n[9t...</td>\n",
       "      <td>[rt, ohsehunbar, 2018, sehun, s, bday, support...</td>\n",
       "    </tr>\n",
       "    <tr>\n",
       "      <th>3</th>\n",
       "      <td>Pekan Suci Paroki Banteng https://t.co/JbSatyISCW</td>\n",
       "      <td>[pekan, suci, paroki, banteng, https, t, co, j...</td>\n",
       "    </tr>\n",
       "    <tr>\n",
       "      <th>4</th>\n",
       "      <td>RT @igot_markedby7: [TRANS] #Jackson replied:\\...</td>\n",
       "      <td>[rt, igot_markedby7, trans, jackson, replied, ...</td>\n",
       "    </tr>\n",
       "  </tbody>\n",
       "</table>\n",
       "</div>"
      ],
      "text/plain": [
       "                                            doc_text  \\\n",
       "0    RT @BarrettSallee: Hero https://t.co/4eyjbjtqKp   \n",
       "1  Of the 6 new announced #Russianmissiles, actua...   \n",
       "2  RT @Ohsehunbar: 2018 SEHUN’s bday support\\n[9t...   \n",
       "3  Pekan Suci Paroki Banteng https://t.co/JbSatyISCW   \n",
       "4  RT @igot_markedby7: [TRANS] #Jackson replied:\\...   \n",
       "\n",
       "                                               words  \n",
       "0  [rt, barrettsallee, hero, https, t, co, 4eyjbj...  \n",
       "1  [of, the, 6, new, announced, russianmissiles, ...  \n",
       "2  [rt, ohsehunbar, 2018, sehun, s, bday, support...  \n",
       "3  [pekan, suci, paroki, banteng, https, t, co, j...  \n",
       "4  [rt, igot_markedby7, trans, jackson, replied, ...  "
      ]
     },
     "execution_count": 10,
     "metadata": {},
     "output_type": "execute_result"
    }
   ],
   "source": [
    "from pyspark.ml.feature import Tokenizer, RegexTokenizer\n",
    "\n",
    "tokenizer = RegexTokenizer(inputCol=\"doc_text\", outputCol=\"words\", pattern=\"\\\\W\")\n",
    "#tokenizer = Tokenizer(inputCol=\"doc_text\", outputCol=\"words\")\n",
    "\n",
    "#from pyspark.sql.functions import col, udf\n",
    "#from pyspark.sql.types import IntegerType\n",
    "#countTokens = udf(lambda words: len(words), IntegerType())\n",
    "\n",
    "tokenized = tokenizer.transform(documents)\n",
    "tokenized.select(\"doc_text\", \"words\").toPandas().head()"
   ]
  },
  {
   "cell_type": "markdown",
   "metadata": {},
   "source": [
    "### TF"
   ]
  },
  {
   "cell_type": "code",
   "execution_count": 16,
   "metadata": {
    "collapsed": false
   },
   "outputs": [
    {
     "data": {
      "text/html": [
       "<div>\n",
       "<style scoped>\n",
       "    .dataframe tbody tr th:only-of-type {\n",
       "        vertical-align: middle;\n",
       "    }\n",
       "\n",
       "    .dataframe tbody tr th {\n",
       "        vertical-align: top;\n",
       "    }\n",
       "\n",
       "    .dataframe thead th {\n",
       "        text-align: right;\n",
       "    }\n",
       "</style>\n",
       "<table border=\"1\" class=\"dataframe\">\n",
       "  <thead>\n",
       "    <tr style=\"text-align: right;\">\n",
       "      <th></th>\n",
       "      <th>doc_id</th>\n",
       "      <th>doc_text</th>\n",
       "      <th>words</th>\n",
       "      <th>tf</th>\n",
       "    </tr>\n",
       "  </thead>\n",
       "  <tbody>\n",
       "    <tr>\n",
       "      <th>0</th>\n",
       "      <td>978796580789719042</td>\n",
       "      <td>RT @BarrettSallee: Hero https://t.co/4eyjbjtqKp</td>\n",
       "      <td>[rt, barrettsallee, hero, https, t, co, 4eyjbj...</td>\n",
       "      <td>(0.0, 0.0, 0.0, 0.0, 0.0, 0.0, 0.0, 0.0, 0.0, ...</td>\n",
       "    </tr>\n",
       "    <tr>\n",
       "      <th>1</th>\n",
       "      <td>978796298328559616</td>\n",
       "      <td>Of the 6 new announced #Russianmissiles, actua...</td>\n",
       "      <td>[of, the, 6, new, announced, russianmissiles, ...</td>\n",
       "      <td>(0.0, 0.0, 0.0, 0.0, 0.0, 0.0, 0.0, 0.0, 0.0, ...</td>\n",
       "    </tr>\n",
       "    <tr>\n",
       "      <th>2</th>\n",
       "      <td>978797301639475200</td>\n",
       "      <td>RT @Ohsehunbar: 2018 SEHUN’s bday support\\n[9t...</td>\n",
       "      <td>[rt, ohsehunbar, 2018, sehun, s, bday, support...</td>\n",
       "      <td>(0.0, 0.0, 0.0, 0.0, 0.0, 0.0, 0.0, 0.0, 0.0, ...</td>\n",
       "    </tr>\n",
       "    <tr>\n",
       "      <th>3</th>\n",
       "      <td>978796516310577153</td>\n",
       "      <td>Pekan Suci Paroki Banteng https://t.co/JbSatyISCW</td>\n",
       "      <td>[pekan, suci, paroki, banteng, https, t, co, j...</td>\n",
       "      <td>(0.0, 0.0, 0.0, 0.0, 0.0, 0.0, 0.0, 0.0, 0.0, ...</td>\n",
       "    </tr>\n",
       "    <tr>\n",
       "      <th>4</th>\n",
       "      <td>978797071414145030</td>\n",
       "      <td>RT @igot_markedby7: [TRANS] #Jackson replied:\\...</td>\n",
       "      <td>[rt, igot_markedby7, trans, jackson, replied, ...</td>\n",
       "      <td>(0.0, 0.0, 0.0, 0.0, 0.0, 0.0, 0.0, 0.0, 0.0, ...</td>\n",
       "    </tr>\n",
       "  </tbody>\n",
       "</table>\n",
       "</div>"
      ],
      "text/plain": [
       "               doc_id                                           doc_text  \\\n",
       "0  978796580789719042    RT @BarrettSallee: Hero https://t.co/4eyjbjtqKp   \n",
       "1  978796298328559616  Of the 6 new announced #Russianmissiles, actua...   \n",
       "2  978797301639475200  RT @Ohsehunbar: 2018 SEHUN’s bday support\\n[9t...   \n",
       "3  978796516310577153  Pekan Suci Paroki Banteng https://t.co/JbSatyISCW   \n",
       "4  978797071414145030  RT @igot_markedby7: [TRANS] #Jackson replied:\\...   \n",
       "\n",
       "                                               words  \\\n",
       "0  [rt, barrettsallee, hero, https, t, co, 4eyjbj...   \n",
       "1  [of, the, 6, new, announced, russianmissiles, ...   \n",
       "2  [rt, ohsehunbar, 2018, sehun, s, bday, support...   \n",
       "3  [pekan, suci, paroki, banteng, https, t, co, j...   \n",
       "4  [rt, igot_markedby7, trans, jackson, replied, ...   \n",
       "\n",
       "                                                  tf  \n",
       "0  (0.0, 0.0, 0.0, 0.0, 0.0, 0.0, 0.0, 0.0, 0.0, ...  \n",
       "1  (0.0, 0.0, 0.0, 0.0, 0.0, 0.0, 0.0, 0.0, 0.0, ...  \n",
       "2  (0.0, 0.0, 0.0, 0.0, 0.0, 0.0, 0.0, 0.0, 0.0, ...  \n",
       "3  (0.0, 0.0, 0.0, 0.0, 0.0, 0.0, 0.0, 0.0, 0.0, ...  \n",
       "4  (0.0, 0.0, 0.0, 0.0, 0.0, 0.0, 0.0, 0.0, 0.0, ...  "
      ]
     },
     "execution_count": 16,
     "metadata": {},
     "output_type": "execute_result"
    }
   ],
   "source": [
    "from pyspark.ml.feature import HashingTF\n",
    "\n",
    "htf= HashingTF(inputCol=\"words\", outputCol=\"tf\")\n",
    "tf = htf.transform(tokenized)\n",
    "tf.toPandas().head()"
   ]
  },
  {
   "cell_type": "markdown",
   "metadata": {},
   "source": [
    "### IDF"
   ]
  },
  {
   "cell_type": "code",
   "execution_count": 17,
   "metadata": {
    "collapsed": false
   },
   "outputs": [
    {
     "data": {
      "text/html": [
       "<div>\n",
       "<style scoped>\n",
       "    .dataframe tbody tr th:only-of-type {\n",
       "        vertical-align: middle;\n",
       "    }\n",
       "\n",
       "    .dataframe tbody tr th {\n",
       "        vertical-align: top;\n",
       "    }\n",
       "\n",
       "    .dataframe thead th {\n",
       "        text-align: right;\n",
       "    }\n",
       "</style>\n",
       "<table border=\"1\" class=\"dataframe\">\n",
       "  <thead>\n",
       "    <tr style=\"text-align: right;\">\n",
       "      <th></th>\n",
       "      <th>doc_id</th>\n",
       "      <th>doc_text</th>\n",
       "      <th>words</th>\n",
       "      <th>tf</th>\n",
       "      <th>idf</th>\n",
       "    </tr>\n",
       "  </thead>\n",
       "  <tbody>\n",
       "    <tr>\n",
       "      <th>0</th>\n",
       "      <td>978796580789719042</td>\n",
       "      <td>RT @BarrettSallee: Hero https://t.co/4eyjbjtqKp</td>\n",
       "      <td>[rt, barrettsallee, hero, https, t, co, 4eyjbj...</td>\n",
       "      <td>(0.0, 0.0, 0.0, 0.0, 0.0, 0.0, 0.0, 0.0, 0.0, ...</td>\n",
       "      <td>(0.0, 0.0, 0.0, 0.0, 0.0, 0.0, 0.0, 0.0, 0.0, ...</td>\n",
       "    </tr>\n",
       "    <tr>\n",
       "      <th>1</th>\n",
       "      <td>978796298328559616</td>\n",
       "      <td>Of the 6 new announced #Russianmissiles, actua...</td>\n",
       "      <td>[of, the, 6, new, announced, russianmissiles, ...</td>\n",
       "      <td>(0.0, 0.0, 0.0, 0.0, 0.0, 0.0, 0.0, 0.0, 0.0, ...</td>\n",
       "      <td>(0.0, 0.0, 0.0, 0.0, 0.0, 0.0, 0.0, 0.0, 0.0, ...</td>\n",
       "    </tr>\n",
       "    <tr>\n",
       "      <th>2</th>\n",
       "      <td>978797301639475200</td>\n",
       "      <td>RT @Ohsehunbar: 2018 SEHUN’s bday support\\n[9t...</td>\n",
       "      <td>[rt, ohsehunbar, 2018, sehun, s, bday, support...</td>\n",
       "      <td>(0.0, 0.0, 0.0, 0.0, 0.0, 0.0, 0.0, 0.0, 0.0, ...</td>\n",
       "      <td>(0.0, 0.0, 0.0, 0.0, 0.0, 0.0, 0.0, 0.0, 0.0, ...</td>\n",
       "    </tr>\n",
       "    <tr>\n",
       "      <th>3</th>\n",
       "      <td>978796516310577153</td>\n",
       "      <td>Pekan Suci Paroki Banteng https://t.co/JbSatyISCW</td>\n",
       "      <td>[pekan, suci, paroki, banteng, https, t, co, j...</td>\n",
       "      <td>(0.0, 0.0, 0.0, 0.0, 0.0, 0.0, 0.0, 0.0, 0.0, ...</td>\n",
       "      <td>(0.0, 0.0, 0.0, 0.0, 0.0, 0.0, 0.0, 0.0, 0.0, ...</td>\n",
       "    </tr>\n",
       "    <tr>\n",
       "      <th>4</th>\n",
       "      <td>978797071414145030</td>\n",
       "      <td>RT @igot_markedby7: [TRANS] #Jackson replied:\\...</td>\n",
       "      <td>[rt, igot_markedby7, trans, jackson, replied, ...</td>\n",
       "      <td>(0.0, 0.0, 0.0, 0.0, 0.0, 0.0, 0.0, 0.0, 0.0, ...</td>\n",
       "      <td>(0.0, 0.0, 0.0, 0.0, 0.0, 0.0, 0.0, 0.0, 0.0, ...</td>\n",
       "    </tr>\n",
       "  </tbody>\n",
       "</table>\n",
       "</div>"
      ],
      "text/plain": [
       "               doc_id                                           doc_text  \\\n",
       "0  978796580789719042    RT @BarrettSallee: Hero https://t.co/4eyjbjtqKp   \n",
       "1  978796298328559616  Of the 6 new announced #Russianmissiles, actua...   \n",
       "2  978797301639475200  RT @Ohsehunbar: 2018 SEHUN’s bday support\\n[9t...   \n",
       "3  978796516310577153  Pekan Suci Paroki Banteng https://t.co/JbSatyISCW   \n",
       "4  978797071414145030  RT @igot_markedby7: [TRANS] #Jackson replied:\\...   \n",
       "\n",
       "                                               words  \\\n",
       "0  [rt, barrettsallee, hero, https, t, co, 4eyjbj...   \n",
       "1  [of, the, 6, new, announced, russianmissiles, ...   \n",
       "2  [rt, ohsehunbar, 2018, sehun, s, bday, support...   \n",
       "3  [pekan, suci, paroki, banteng, https, t, co, j...   \n",
       "4  [rt, igot_markedby7, trans, jackson, replied, ...   \n",
       "\n",
       "                                                  tf  \\\n",
       "0  (0.0, 0.0, 0.0, 0.0, 0.0, 0.0, 0.0, 0.0, 0.0, ...   \n",
       "1  (0.0, 0.0, 0.0, 0.0, 0.0, 0.0, 0.0, 0.0, 0.0, ...   \n",
       "2  (0.0, 0.0, 0.0, 0.0, 0.0, 0.0, 0.0, 0.0, 0.0, ...   \n",
       "3  (0.0, 0.0, 0.0, 0.0, 0.0, 0.0, 0.0, 0.0, 0.0, ...   \n",
       "4  (0.0, 0.0, 0.0, 0.0, 0.0, 0.0, 0.0, 0.0, 0.0, ...   \n",
       "\n",
       "                                                 idf  \n",
       "0  (0.0, 0.0, 0.0, 0.0, 0.0, 0.0, 0.0, 0.0, 0.0, ...  \n",
       "1  (0.0, 0.0, 0.0, 0.0, 0.0, 0.0, 0.0, 0.0, 0.0, ...  \n",
       "2  (0.0, 0.0, 0.0, 0.0, 0.0, 0.0, 0.0, 0.0, 0.0, ...  \n",
       "3  (0.0, 0.0, 0.0, 0.0, 0.0, 0.0, 0.0, 0.0, 0.0, ...  \n",
       "4  (0.0, 0.0, 0.0, 0.0, 0.0, 0.0, 0.0, 0.0, 0.0, ...  "
      ]
     },
     "execution_count": 17,
     "metadata": {},
     "output_type": "execute_result"
    }
   ],
   "source": [
    "from pyspark.ml.feature import IDF\n",
    "\n",
    "idf = IDF(inputCol=\"tf\",outputCol=\"idf\")\n",
    "tfidf = idf.fit(tf).transform(tf)\n",
    "tfidf.toPandas().head()"
   ]
  },
  {
   "cell_type": "code",
   "execution_count": null,
   "metadata": {
    "collapsed": true
   },
   "outputs": [],
   "source": []
  }
 ],
 "metadata": {
  "kernelspec": {
   "display_name": "Python 3",
   "language": "python",
   "name": "python3"
  },
  "language_info": {
   "codemirror_mode": {
    "name": "ipython",
    "version": 3
   },
   "file_extension": ".py",
   "mimetype": "text/x-python",
   "name": "python",
   "nbconvert_exporter": "python",
   "pygments_lexer": "ipython3",
   "version": "3.6.3"
  }
 },
 "nbformat": 4,
 "nbformat_minor": 2
}
